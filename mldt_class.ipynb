{
 "cells": [
  {
   "cell_type": "code",
   "execution_count": 1,
   "id": "70167097",
   "metadata": {},
   "outputs": [],
   "source": [
    "# import functions\n",
    "import os                                                                       # work with absolute directory path\n",
    "import pandas as pd\n",
    "import numpy as np\n",
    "import matplotlib.pyplot as plt\n",
    "import seaborn as sns\n",
    "from scipy import stats\n",
    "import statsmodels.api as sm\n",
    "import missingno as msno                                                        # visualize missing data\n",
    "from statsmodels.stats.outliers_influence import variance_inflation_factor      # compute VIF\n",
    "\n",
    "from sklearn.preprocessing import StandardScaler\n",
    "from sklearn.preprocessing import MinMaxScaler\n",
    "from sklearn.decomposition import PCA\n",
    "from sklearn import metrics\n",
    "from sklearn.metrics import silhouette_score\n",
    "from sklearn.cluster import KMeans\n",
    "from sklearn.model_selection import train_test_split\n",
    "from sklearn.neighbors import KNeighborsClassifier\n",
    "from sklearn.metrics import accuracy_score\n",
    "from sklearn.metrics import confusion_matrix, classification_report\n",
    "from sklearn.tree import DecisionTreeClassifier\n",
    "from sklearn import tree\n",
    "from sklearn.model_selection import GridSearchCV\n",
    "from sklearn.metrics import accuracy_score\n",
    "from sklearn.metrics import classification_report\n",
    "from sklearn.metrics import accuracy_score, recall_score, precision_score, f1_score\n",
    "from sklearn.ensemble import RandomForestClassifier\n",
    "import plotly.express as px\n",
    "import plotly.io as pio\n",
    "from sklearn.impute import SimpleImputer\n",
    "\n",
    "# set display and graphics\n",
    "pd.set_option('display.max_columns', None)  \n",
    "sns.set(style = \"whitegrid\")                                                    # set the style for the plot\n",
    "sns.set_context(\"paper\")\n",
    "\n",
    "from IPython.core.interactiveshell import InteractiveShell\n",
    "InteractiveShell.ast_node_interactivity = \"all\"                                 # display output for all lines within a cell\n",
    "\n",
    "# define working directory path\n",
    "path_workdir = '/Users/azfar/Documents/Python/Health Data Analytics Using Python/Project'\n",
    "path_fig = '/Users/azfar/Documents/Python/Health Data Analytics Using Python/Project/Paper/figure'"
   ]
  },
  {
   "cell_type": "code",
   "execution_count": 2,
   "id": "98db3efc",
   "metadata": {},
   "outputs": [],
   "source": [
    "# Load data file\n",
    "dfa = pd.read_csv('/Users/azfar/Documents/Python/Health Data Analytics Using Python/Project/add1120_prep3.csv')\n",
    "dfa = dfa.drop_duplicates(subset='mepsid')      # get unique cases\n",
    "dfa = dfa.drop('mepsid', axis=1)                # drop case identifier"
   ]
  },
  {
   "cell_type": "markdown",
   "id": "b5bb3655",
   "metadata": {},
   "source": [
    "# Machine learning classification"
   ]
  },
  {
   "cell_type": "markdown",
   "id": "32995f5a",
   "metadata": {},
   "source": [
    "ML Pre-process"
   ]
  },
  {
   "cell_type": "code",
   "execution_count": 3,
   "id": "0b6c0917",
   "metadata": {
    "lines_to_next_cell": 2
   },
   "outputs": [
    {
     "name": "stdout",
     "output_type": "stream",
     "text": [
      "age                                                float64\n",
      "famsize                                            float64\n",
      "ftotincmeps                                        float64\n",
      "inctot                                             float64\n",
      "ftotval                                            float64\n",
      "                                                    ...   \n",
      "povcat_High income (>=400% of poverty line)          uint8\n",
      "povcat_Low income (125-199% of poverty line)         uint8\n",
      "povcat_Middle income (200-399% of poverty line)      uint8\n",
      "povcat_Near poor (100-124% of poverty line)          uint8\n",
      "povcat_Negative or poor (<100% of poverty line)      uint8\n",
      "Length: 87, dtype: object\n"
     ]
    }
   ],
   "source": [
    "# create dataframe\n",
    "df_ml = dfa\n",
    "\n",
    "# create all numeric data frame\n",
    "object_columns = df_ml.select_dtypes(include=['object'])          # Select columns with the \"object\" data type\n",
    "dummy_columns = pd.get_dummies(object_columns)                    # Get dummy variables for the selected columns \n",
    "df_ml = df_ml.drop(object_columns, axis=1)                        # Drop the object variables\n",
    "df_mlnum = pd.concat([df_ml, dummy_columns], axis = 1)            # Concatenate the dummy columns with the original DataFrame\n",
    "#   df_mlnum = df_mlnum.drop('hinotcov_No', axis=1)                   # Drop negation of target \n",
    "print(df_mlnum.dtypes)"
   ]
  },
  {
   "cell_type": "markdown",
   "id": "ad082218",
   "metadata": {},
   "source": [
    "ML setup"
   ]
  },
  {
   "cell_type": "code",
   "execution_count": 4,
   "id": "27f13a7d",
   "metadata": {},
   "outputs": [
    {
     "data": {
      "text/plain": [
       "(184573, 86)"
      ]
     },
     "execution_count": 4,
     "metadata": {},
     "output_type": "execute_result"
    },
    {
     "data": {
      "text/plain": [
       "(184573,)"
      ]
     },
     "execution_count": 4,
     "metadata": {},
     "output_type": "execute_result"
    },
    {
     "data": {
      "text/plain": [
       "\"\\n# Impute missing values with the mean\\nimputer = SimpleImputer(strategy='mean')\\nX_train = imputer.fit_transform(X_train)\\nX_test = imputer.fit_transform(X_test)\\n\""
      ]
     },
     "execution_count": 4,
     "metadata": {},
     "output_type": "execute_result"
    },
    {
     "data": {
      "text/plain": [
       "(147658, 86)"
      ]
     },
     "execution_count": 4,
     "metadata": {},
     "output_type": "execute_result"
    },
    {
     "data": {
      "text/plain": [
       "(147658,)"
      ]
     },
     "execution_count": 4,
     "metadata": {},
     "output_type": "execute_result"
    }
   ],
   "source": [
    "# Create numpy arrays for feature and target\n",
    "X = df_mlnum.drop('hinotcov_Yes',axis=1).values               # feature\n",
    "Y = df_mlnum['hinotcov_Yes'].values                           # target\n",
    "\n",
    "# Normalize data\n",
    "scaler = StandardScaler()\n",
    "X_scaled = scaler.fit_transform(X)\n",
    "\n",
    "X_scaled.shape\n",
    "Y.shape\n",
    "\n",
    "# Create test and training data\n",
    "X_train, X_test, Y_train, Y_test = train_test_split(X_scaled, Y, test_size = 0.2, random_state = 111)   \n",
    "\"\"\"\n",
    "# Impute missing values with the mean\n",
    "imputer = SimpleImputer(strategy='mean')\n",
    "X_train = imputer.fit_transform(X_train)\n",
    "X_test = imputer.fit_transform(X_test)\n",
    "\"\"\"\n",
    "X_train.shape\n",
    "Y_train.shape"
   ]
  },
  {
   "cell_type": "markdown",
   "id": "649938db",
   "metadata": {},
   "source": [
    "# Decision Tree ML classification"
   ]
  },
  {
   "cell_type": "markdown",
   "id": "121360bd",
   "metadata": {},
   "source": [
    "Plot a curve with training and test accuracy varying max_depth"
   ]
  },
  {
   "cell_type": "code",
   "execution_count": 5,
   "id": "6e29f669",
   "metadata": {},
   "outputs": [
    {
     "data": {
      "text/plain": [
       "[<matplotlib.lines.Line2D at 0x294ab2830>,\n",
       " <matplotlib.lines.Line2D at 0x294ab3880>]"
      ]
     },
     "execution_count": 5,
     "metadata": {},
     "output_type": "execute_result"
    },
    {
     "data": {
      "text/plain": [
       "<matplotlib.legend.Legend at 0x109e05bd0>"
      ]
     },
     "execution_count": 5,
     "metadata": {},
     "output_type": "execute_result"
    },
    {
     "data": {
      "text/plain": [
       "Text(0.5, 0, 'Max_depth')"
      ]
     },
     "execution_count": 5,
     "metadata": {},
     "output_type": "execute_result"
    },
    {
     "data": {
      "text/plain": [
       "Text(0, 0.5, 'Accuracy')"
      ]
     },
     "execution_count": 5,
     "metadata": {},
     "output_type": "execute_result"
    },
    {
     "data": {
      "image/png": "[encoded data removed]",
      "text/plain": [
       "<Figure size 640x480 with 1 Axes>"
      ]
     },
     "metadata": {},
     "output_type": "display_data"
    }
   ],
   "source": [
    "max_depthlist = list(range(1, 21))          # List of max_depth\n",
    "trainAcc = []                               # Empty list to store training accuracy\n",
    "testAcc = []                                # Empty list to store testing accuracy\n",
    "\n",
    "# a loop for collecting training and testing accuracies for varying max_depth\n",
    "for k in max_depthlist:\n",
    "    clf = tree.DecisionTreeClassifier(max_depth = k, random_state = 0)\n",
    "    clf = clf.fit(X_train, Y_train)\n",
    "    Y_predTrain = clf.predict(X_train)\n",
    "    trainAcc.append(accuracy_score(Y_train, Y_predTrain))\n",
    "    Y_predTest = clf.predict(X_test)\n",
    "    testAcc.append(accuracy_score(Y_test, Y_predTest))\n",
    "    # end of for loop statement\n",
    "\n",
    "plt.plot(max_depthlist, trainAcc, 'ro-', max_depthlist, testAcc,'bv--')\n",
    "plt.legend(['Training Accuracy','Test Accuracy'])\n",
    "plt.xlabel('Max_depth')\n",
    "plt.ylabel('Accuracy')\n",
    "plt.savefig(os.path.join(path_fig, 'dt_accuracy_varydepth.png'))"
   ]
  },
  {
   "cell_type": "markdown",
   "id": "5c3d027f",
   "metadata": {},
   "source": [
    "Use a 10-fold CV to select the two best parameters (max_depth and min_samples_split)"
   ]
  },
  {
   "cell_type": "code",
   "execution_count": 6,
   "id": "9181127c",
   "metadata": {},
   "outputs": [
    {
     "data": {
      "text/html": [
       "<style>#sk-container-id-1 {color: black;background-color: white;}#sk-container-id-1 pre{padding: 0;}#sk-container-id-1 div.sk-toggleable {background-color: white;}#sk-container-id-1 label.sk-toggleable__label {cursor: pointer;display: block;width: 100%;margin-bottom: 0;padding: 0.3em;box-sizing: border-box;text-align: center;}#sk-container-id-1 label.sk-toggleable__label-arrow:before {content: \"▸\";float: left;margin-right: 0.25em;color: #696969;}#sk-container-id-1 label.sk-toggleable__label-arrow:hover:before {color: black;}#sk-container-id-1 div.sk-estimator:hover label.sk-toggleable__label-arrow:before {color: black;}#sk-container-id-1 div.sk-toggleable__content {max-height: 0;max-width: 0;overflow: hidden;text-align: left;background-color: #f0f8ff;}#sk-container-id-1 div.sk-toggleable__content pre {margin: 0.2em;color: black;border-radius: 0.25em;background-color: #f0f8ff;}#sk-container-id-1 input.sk-toggleable__control:checked~div.sk-toggleable__content {max-height: 200px;max-width: 100%;overflow: auto;}#sk-container-id-1 input.sk-toggleable__control:checked~label.sk-toggleable__label-arrow:before {content: \"▾\";}#sk-container-id-1 div.sk-estimator input.sk-toggleable__control:checked~label.sk-toggleable__label {background-color: #d4ebff;}#sk-container-id-1 div.sk-label input.sk-toggleable__control:checked~label.sk-toggleable__label {background-color: #d4ebff;}#sk-container-id-1 input.sk-hidden--visually {border: 0;clip: rect(1px 1px 1px 1px);clip: rect(1px, 1px, 1px, 1px);height: 1px;margin: -1px;overflow: hidden;padding: 0;position: absolute;width: 1px;}#sk-container-id-1 div.sk-estimator {font-family: monospace;background-color: #f0f8ff;border: 1px dotted black;border-radius: 0.25em;box-sizing: border-box;margin-bottom: 0.5em;}#sk-container-id-1 div.sk-estimator:hover {background-color: #d4ebff;}#sk-container-id-1 div.sk-parallel-item::after {content: \"\";width: 100%;border-bottom: 1px solid gray;flex-grow: 1;}#sk-container-id-1 div.sk-label:hover label.sk-toggleable__label {background-color: #d4ebff;}#sk-container-id-1 div.sk-serial::before {content: \"\";position: absolute;border-left: 1px solid gray;box-sizing: border-box;top: 0;bottom: 0;left: 50%;z-index: 0;}#sk-container-id-1 div.sk-serial {display: flex;flex-direction: column;align-items: center;background-color: white;padding-right: 0.2em;padding-left: 0.2em;position: relative;}#sk-container-id-1 div.sk-item {position: relative;z-index: 1;}#sk-container-id-1 div.sk-parallel {display: flex;align-items: stretch;justify-content: center;background-color: white;position: relative;}#sk-container-id-1 div.sk-item::before, #sk-container-id-1 div.sk-parallel-item::before {content: \"\";position: absolute;border-left: 1px solid gray;box-sizing: border-box;top: 0;bottom: 0;left: 50%;z-index: -1;}#sk-container-id-1 div.sk-parallel-item {display: flex;flex-direction: column;z-index: 1;position: relative;background-color: white;}#sk-container-id-1 div.sk-parallel-item:first-child::after {align-self: flex-end;width: 50%;}#sk-container-id-1 div.sk-parallel-item:last-child::after {align-self: flex-start;width: 50%;}#sk-container-id-1 div.sk-parallel-item:only-child::after {width: 0;}#sk-container-id-1 div.sk-dashed-wrapped {border: 1px dashed gray;margin: 0 0.4em 0.5em 0.4em;box-sizing: border-box;padding-bottom: 0.4em;background-color: white;}#sk-container-id-1 div.sk-label label {font-family: monospace;font-weight: bold;display: inline-block;line-height: 1.2em;}#sk-container-id-1 div.sk-label-container {text-align: center;}#sk-container-id-1 div.sk-container {/* jupyter's `normalize.less` sets `[hidden] { display: none; }` but bootstrap.min.css set `[hidden] { display: none !important; }` so we also need the `!important` here to be able to override the default hidden behavior on the sphinx rendered scikit-learn.org. See: https://github.com/scikit-learn/scikit-learn/issues/21755 */display: inline-block !important;position: relative;}#sk-container-id-1 div.sk-text-repr-fallback {display: none;}</style><div id=\"sk-container-id-1\" class=\"sk-top-container\"><div class=\"sk-text-repr-fallback\"><pre>GridSearchCV(cv=10, estimator=DecisionTreeClassifier(random_state=0),\n",
       "             param_grid={&#x27;max_depth&#x27;: range(1, 16, 2),\n",
       "                         &#x27;min_samples_split&#x27;: range(5, 61, 5)},\n",
       "             scoring=&#x27;accuracy&#x27;)</pre><b>In a Jupyter environment, please rerun this cell to show the HTML representation or trust the notebook. <br />On GitHub, the HTML representation is unable to render, please try loading this page with nbviewer.org.</b></div><div class=\"sk-container\" hidden><div class=\"sk-item sk-dashed-wrapped\"><div class=\"sk-label-container\"><div class=\"sk-label sk-toggleable\"><input class=\"sk-toggleable__control sk-hidden--visually\" id=\"sk-estimator-id-1\" type=\"checkbox\" ><label for=\"sk-estimator-id-1\" class=\"sk-toggleable__label sk-toggleable__label-arrow\">GridSearchCV</label><div class=\"sk-toggleable__content\"><pre>GridSearchCV(cv=10, estimator=DecisionTreeClassifier(random_state=0),\n",
       "             param_grid={&#x27;max_depth&#x27;: range(1, 16, 2),\n",
       "                         &#x27;min_samples_split&#x27;: range(5, 61, 5)},\n",
       "             scoring=&#x27;accuracy&#x27;)</pre></div></div></div><div class=\"sk-parallel\"><div class=\"sk-parallel-item\"><div class=\"sk-item\"><div class=\"sk-label-container\"><div class=\"sk-label sk-toggleable\"><input class=\"sk-toggleable__control sk-hidden--visually\" id=\"sk-estimator-id-2\" type=\"checkbox\" ><label for=\"sk-estimator-id-2\" class=\"sk-toggleable__label sk-toggleable__label-arrow\">estimator: DecisionTreeClassifier</label><div class=\"sk-toggleable__content\"><pre>DecisionTreeClassifier(random_state=0)</pre></div></div></div><div class=\"sk-serial\"><div class=\"sk-item\"><div class=\"sk-estimator sk-toggleable\"><input class=\"sk-toggleable__control sk-hidden--visually\" id=\"sk-estimator-id-3\" type=\"checkbox\" ><label for=\"sk-estimator-id-3\" class=\"sk-toggleable__label sk-toggleable__label-arrow\">DecisionTreeClassifier</label><div class=\"sk-toggleable__content\"><pre>DecisionTreeClassifier(random_state=0)</pre></div></div></div></div></div></div></div></div></div></div>"
      ],
      "text/plain": [
       "GridSearchCV(cv=10, estimator=DecisionTreeClassifier(random_state=0),\n",
       "             param_grid={'max_depth': range(1, 16, 2),\n",
       "                         'min_samples_split': range(5, 61, 5)},\n",
       "             scoring='accuracy')"
      ]
     },
     "execution_count": 6,
     "metadata": {},
     "output_type": "execute_result"
    },
    {
     "name": "stdout",
     "output_type": "stream",
     "text": [
      "Best Parameters:  {'max_depth': 9, 'min_samples_split': 50}\n"
     ]
    }
   ],
   "source": [
    "param_grid = {\n",
    "    'max_depth': range(1, 16, 2),                                           # Start with 1, end with 15, increment by 2\n",
    "    'min_samples_split': range(5, 61, 5)                                    # Start with 5, end with 60, increment by 5\n",
    "}\n",
    "\n",
    "clf = DecisionTreeClassifier(random_state=0)                                # Create a decision tree classifier\n",
    "grid_search = GridSearchCV(clf, param_grid, cv=10, scoring='accuracy')      # Create the GridSearchCV object\n",
    "grid_search.fit(X_train, Y_train)                                           # Fit the grid search to the data\n",
    "print(\"Best Parameters: \", grid_search.best_params_)                        # Print the best parameters\n",
    "best_clf = grid_search.best_estimator_                                      # Get the best estimator"
   ]
  },
  {
   "cell_type": "markdown",
   "id": "8236410f",
   "metadata": {},
   "source": [
    "Use the best parameters from step b, run the classifier using training data set and evaluate with test data set. "
   ]
  },
  {
   "cell_type": "code",
   "execution_count": 7,
   "id": "0b9b12b1",
   "metadata": {},
   "outputs": [
    {
     "data": {
      "text/html": [
       "<style>#sk-container-id-2 {color: black;background-color: white;}#sk-container-id-2 pre{padding: 0;}#sk-container-id-2 div.sk-toggleable {background-color: white;}#sk-container-id-2 label.sk-toggleable__label {cursor: pointer;display: block;width: 100%;margin-bottom: 0;padding: 0.3em;box-sizing: border-box;text-align: center;}#sk-container-id-2 label.sk-toggleable__label-arrow:before {content: \"▸\";float: left;margin-right: 0.25em;color: #696969;}#sk-container-id-2 label.sk-toggleable__label-arrow:hover:before {color: black;}#sk-container-id-2 div.sk-estimator:hover label.sk-toggleable__label-arrow:before {color: black;}#sk-container-id-2 div.sk-toggleable__content {max-height: 0;max-width: 0;overflow: hidden;text-align: left;background-color: #f0f8ff;}#sk-container-id-2 div.sk-toggleable__content pre {margin: 0.2em;color: black;border-radius: 0.25em;background-color: #f0f8ff;}#sk-container-id-2 input.sk-toggleable__control:checked~div.sk-toggleable__content {max-height: 200px;max-width: 100%;overflow: auto;}#sk-container-id-2 input.sk-toggleable__control:checked~label.sk-toggleable__label-arrow:before {content: \"▾\";}#sk-container-id-2 div.sk-estimator input.sk-toggleable__control:checked~label.sk-toggleable__label {background-color: #d4ebff;}#sk-container-id-2 div.sk-label input.sk-toggleable__control:checked~label.sk-toggleable__label {background-color: #d4ebff;}#sk-container-id-2 input.sk-hidden--visually {border: 0;clip: rect(1px 1px 1px 1px);clip: rect(1px, 1px, 1px, 1px);height: 1px;margin: -1px;overflow: hidden;padding: 0;position: absolute;width: 1px;}#sk-container-id-2 div.sk-estimator {font-family: monospace;background-color: #f0f8ff;border: 1px dotted black;border-radius: 0.25em;box-sizing: border-box;margin-bottom: 0.5em;}#sk-container-id-2 div.sk-estimator:hover {background-color: #d4ebff;}#sk-container-id-2 div.sk-parallel-item::after {content: \"\";width: 100%;border-bottom: 1px solid gray;flex-grow: 1;}#sk-container-id-2 div.sk-label:hover label.sk-toggleable__label {background-color: #d4ebff;}#sk-container-id-2 div.sk-serial::before {content: \"\";position: absolute;border-left: 1px solid gray;box-sizing: border-box;top: 0;bottom: 0;left: 50%;z-index: 0;}#sk-container-id-2 div.sk-serial {display: flex;flex-direction: column;align-items: center;background-color: white;padding-right: 0.2em;padding-left: 0.2em;position: relative;}#sk-container-id-2 div.sk-item {position: relative;z-index: 1;}#sk-container-id-2 div.sk-parallel {display: flex;align-items: stretch;justify-content: center;background-color: white;position: relative;}#sk-container-id-2 div.sk-item::before, #sk-container-id-2 div.sk-parallel-item::before {content: \"\";position: absolute;border-left: 1px solid gray;box-sizing: border-box;top: 0;bottom: 0;left: 50%;z-index: -1;}#sk-container-id-2 div.sk-parallel-item {display: flex;flex-direction: column;z-index: 1;position: relative;background-color: white;}#sk-container-id-2 div.sk-parallel-item:first-child::after {align-self: flex-end;width: 50%;}#sk-container-id-2 div.sk-parallel-item:last-child::after {align-self: flex-start;width: 50%;}#sk-container-id-2 div.sk-parallel-item:only-child::after {width: 0;}#sk-container-id-2 div.sk-dashed-wrapped {border: 1px dashed gray;margin: 0 0.4em 0.5em 0.4em;box-sizing: border-box;padding-bottom: 0.4em;background-color: white;}#sk-container-id-2 div.sk-label label {font-family: monospace;font-weight: bold;display: inline-block;line-height: 1.2em;}#sk-container-id-2 div.sk-label-container {text-align: center;}#sk-container-id-2 div.sk-container {/* jupyter's `normalize.less` sets `[hidden] { display: none; }` but bootstrap.min.css set `[hidden] { display: none !important; }` so we also need the `!important` here to be able to override the default hidden behavior on the sphinx rendered scikit-learn.org. See: https://github.com/scikit-learn/scikit-learn/issues/21755 */display: inline-block !important;position: relative;}#sk-container-id-2 div.sk-text-repr-fallback {display: none;}</style><div id=\"sk-container-id-2\" class=\"sk-top-container\"><div class=\"sk-text-repr-fallback\"><pre>DecisionTreeClassifier(max_depth=9, min_samples_split=50, random_state=0)</pre><b>In a Jupyter environment, please rerun this cell to show the HTML representation or trust the notebook. <br />On GitHub, the HTML representation is unable to render, please try loading this page with nbviewer.org.</b></div><div class=\"sk-container\" hidden><div class=\"sk-item\"><div class=\"sk-estimator sk-toggleable\"><input class=\"sk-toggleable__control sk-hidden--visually\" id=\"sk-estimator-id-4\" type=\"checkbox\" checked><label for=\"sk-estimator-id-4\" class=\"sk-toggleable__label sk-toggleable__label-arrow\">DecisionTreeClassifier</label><div class=\"sk-toggleable__content\"><pre>DecisionTreeClassifier(max_depth=9, min_samples_split=50, random_state=0)</pre></div></div></div></div></div>"
      ],
      "text/plain": [
       "DecisionTreeClassifier(max_depth=9, min_samples_split=50, random_state=0)"
      ]
     },
     "execution_count": 7,
     "metadata": {},
     "output_type": "execute_result"
    },
    {
     "name": "stdout",
     "output_type": "stream",
     "text": [
      "Training Accuracy: 0.8756992509718403\n",
      "Test Accuracy: 0.8719490721928755\n"
     ]
    }
   ],
   "source": [
    "best_max_depth = grid_search.best_params_['max_depth']                  # get best max_depth\n",
    "best_min_samples_split = grid_search.best_params_['min_samples_split']  # get best min_samples_split\n",
    "\n",
    "best_clf = DecisionTreeClassifier(max_depth = best_max_depth, min_samples_split = best_min_samples_split, random_state = 0)   # Run the decision tree classifier with the best parameters\n",
    "\n",
    "best_clf.fit(X_train, Y_train)                                 # Train the classifier on the training dataset\n",
    "Y_pred_train = best_clf.predict(X_train)                       # Make predictions on the training set\n",
    "train_accuracy_dt = accuracy_score(Y_train, Y_pred_train)      # Evaluate training accuracy\n",
    "print(\"Training Accuracy:\", train_accuracy_dt)\n",
    "Y_pred_test = best_clf.predict(X_test)                         # Make predictions on the test set\n",
    "test_accuracy_dt = accuracy_score(Y_test, Y_pred_test)         # Evaluate test accuracy\n",
    "print(\"Test Accuracy:\", test_accuracy_dt)"
   ]
  },
  {
   "cell_type": "markdown",
   "id": "0eb0fdf2",
   "metadata": {},
   "source": [
    "Cross-table (confusion matrix) with true and predicted labels from test data"
   ]
  },
  {
   "cell_type": "code",
   "execution_count": 10,
   "id": "defbb791",
   "metadata": {},
   "outputs": [
    {
     "data": {
      "text/plain": [
       "<Figure size 1000x400 with 0 Axes>"
      ]
     },
     "execution_count": 10,
     "metadata": {},
     "output_type": "execute_result"
    },
    {
     "data": {
      "text/plain": [
       "<Axes: >"
      ]
     },
     "execution_count": 10,
     "metadata": {},
     "output_type": "execute_result"
    },
    {
     "data": {
      "text/plain": [
       "<Axes: >"
      ]
     },
     "execution_count": 10,
     "metadata": {},
     "output_type": "execute_result"
    },
    {
     "data": {
      "text/plain": [
       "Text(0.5, 1.0, 'Confusion Matrix (Training Set)')"
      ]
     },
     "execution_count": 10,
     "metadata": {},
     "output_type": "execute_result"
    },
    {
     "data": {
      "text/plain": [
       "<Axes: >"
      ]
     },
     "execution_count": 10,
     "metadata": {},
     "output_type": "execute_result"
    },
    {
     "data": {
      "text/plain": [
       "<Axes: >"
      ]
     },
     "execution_count": 10,
     "metadata": {},
     "output_type": "execute_result"
    },
    {
     "data": {
      "text/plain": [
       "Text(0.5, 1.0, 'Confusion Matrix (Test Set)')"
      ]
     },
     "execution_count": 10,
     "metadata": {},
     "output_type": "execute_result"
    },
    {
     "data": {
      "image/png": "[encoded data removed]",
      "text/plain": [
       "<Figure size 1000x400 with 2 Axes>"
      ]
     },
     "metadata": {},
     "output_type": "display_data"
    }
   ],
   "source": [
    "conf_matrix_train = confusion_matrix(Y_train, Y_pred_train)              # Confusion Matrix for training data\n",
    "class_report_train = classification_report(Y_train, Y_pred_train)        # Classification Report for training data\n",
    "conf_matrix_test = confusion_matrix(Y_test, Y_pred_test)                 # Confusion Matrix for test data\n",
    "class_report_test = classification_report(Y_test, Y_pred_test)           # Classification Report for test data\n",
    "\n",
    "# Visualize Confusion Matrix\n",
    "plt.figure(figsize=(10, 4))\n",
    "\n",
    "plt.subplot(1, 2, 1)\n",
    "sns.heatmap(conf_matrix_train, annot=True, fmt='d', cmap='Blues', cbar=False,\n",
    "            xticklabels=['Predicted 0', 'Predicted 1'], yticklabels=['Actual 0', 'Actual 1'])\n",
    "plt.title('Confusion Matrix (Training Set)')\n",
    "\n",
    "plt.subplot(1, 2, 2)\n",
    "sns.heatmap(conf_matrix_test, annot=True, fmt='d', cmap='Blues', cbar=False,\n",
    "            xticklabels=['Predicted 0', 'Predicted 1'], yticklabels=['Actual 0', 'Actual 1'])\n",
    "plt.title('Confusion Matrix (Test Set)')\n",
    "\n",
    "plt.tight_layout()\n",
    "plt.savefig(os.path.join(path_fig, 'dt_confmat.png'))\n",
    "plt.show()"
   ]
  },
  {
   "cell_type": "markdown",
   "metadata": {},
   "source": [
    "Accuracy, sensitivity and specificity"
   ]
  },
  {
   "cell_type": "code",
   "execution_count": null,
   "metadata": {},
   "outputs": [],
   "source": [
    "def calculate_metrics(conf_matrix):                                         # Define a function to calculate sensitivity and specificity\n",
    "    true_positives = conf_matrix[1, 1]\n",
    "    false_positives = conf_matrix[0, 1]\n",
    "    true_negatives = conf_matrix[0, 0]\n",
    "    false_negatives = conf_matrix[1, 0]\n",
    "\n",
    "    accuracy = (true_positives + true_negatives) / np.sum(conf_matrix)\n",
    "    sensitivity = true_positives / (true_positives + false_negatives)\n",
    "    specificity = true_negatives / (true_negatives + false_positives)\n",
    "\n",
    "    return accuracy, sensitivity, specificity\n",
    "\n",
    "\n",
    "accuracy_train, sensitivity_train, specificity_train = calculate_metrics(conf_matrix_train)     # Calculate metrics for training set\n",
    "\n",
    "\n",
    "accuracy_test, sensitivity_test, specificity_test = calculate_metrics(conf_matrix_test)         # Calculate metrics for test set\n",
    "\n",
    "\n",
    "print(\"Training Set Metrics:\")                                                                  # Print the results\n",
    "print(\"Accuracy:\", accuracy_train)\n",
    "print(\"Sensitivity:\", sensitivity_train)\n",
    "print(\"Specificity:\", specificity_train)\n",
    "\n",
    "print(\"\\nTest Set Metrics:\")\n",
    "print(\"Accuracy:\", accuracy_test)\n",
    "print(\"Sensitivity:\", sensitivity_test)\n",
    "print(\"Specificity:\", specificity_test)\n",
    "\n",
    "accuracy_train, sensitivity_train, specificity_train = calculate_metrics(conf_matrix_train)\n",
    "accuracy_test, sensitivity_test, specificity_test = calculate_metrics(conf_matrix_test)\n",
    "\n",
    "# Create a table in LaTeX format\n",
    "table_data = [['Metric', 'Training Set', 'Test Set'],\n",
    "              ['Accuracy', accuracy_train, accuracy_test],\n",
    "              ['Sensitivity', sensitivity_train, sensitivity_test],\n",
    "              ['Specificity', specificity_train, specificity_test]]\n",
    "\n",
    "table_latex = tabulate(table_data, tablefmt=\"latex_raw\")\n",
    "\n",
    "file_path = os.path.join(path_fig, 'dt_table_acc_sens_spec.tex')     # Specify the file path using os.path.join\n",
    "with open(file_path, 'w') as file:\n",
    "    file.write(table_latex)                                          # Save the LaTeX table to the specified file path\n",
    "print(f\"Table saved to '{file_path}'\")"
   ]
  },
  {
   "cell_type": "markdown",
   "id": "52ace152",
   "metadata": {},
   "source": [
    "Find the important features and plot the features with important score"
   ]
  },
  {
   "cell_type": "code",
   "execution_count": null,
   "id": "b4a773ce",
   "metadata": {},
   "outputs": [],
   "source": [
    "print(\"Feature importances:\\n{}\".format(best_clf.feature_importances_))\n",
    "\n",
    "important_features_dict = {}\n",
    "for x,i in enumerate(best_clf.feature_importances_):\n",
    "    important_features_dict[x]=i\n",
    "\n",
    "important_features_list = sorted(important_features_dict,\n",
    "                                 key=important_features_dict.get,\n",
    "                                 reverse=True)\n",
    "\n",
    "print ('Most important features: %s' %important_features_list)\n",
    "\n",
    "# get the sorted feature list based on importance scores\n",
    "# create an empty dictionary of features and importance scores\n",
    "featureImpList= []\n",
    "feature_names=list(df_mlnum.columns[0:109])\n",
    "\n",
    "for feat, importance in zip(feature_names, best_clf.feature_importances_):  \n",
    "        if importance > .001:\n",
    "            temp = [feat, importance*100]\n",
    "            featureImpList.append(temp)\n",
    "\n",
    "# create a dataframe\n",
    "fT_df = pd.DataFrame(featureImpList, columns = ['Feature', 'Importance'])\n",
    "# sort the values\n",
    "fT_df_sorted = fT_df.sort_values('Importance', ascending = False)\n",
    "print (fT_df_sorted)\n",
    "\n",
    "# plot the sorted importances \n",
    "plt.figure(figsize=(8,6))\n",
    "n_features = len(fT_df_sorted)\n",
    "plt.barh(range(n_features), fT_df_sorted['Importance'], align='center')\n",
    "plt.yticks(np.arange(n_features), fT_df_sorted['Feature'])\n",
    "plt.xlabel(\"Feature importance\")\n",
    "plt.ylabel(\"Feature\")\n",
    "plt.ylim(-1, n_features)\n",
    "plt.savefig(os.path.join(path_fig, 'dt_important_elements.png'))"
   ]
  }
 ],
 "metadata": {
  "jupytext": {
   "cell_metadata_filter": "-all",
   "custom_cell_magics": "kql"
  },
  "kernelspec": {
   "display_name": "base",
   "language": "python",
   "name": "python3"
  },
  "language_info": {
   "codemirror_mode": {
    "name": "ipython",
    "version": 3
   },
   "file_extension": ".py",
   "mimetype": "text/x-python",
   "name": "python",
   "nbconvert_exporter": "python",
   "pygments_lexer": "ipython3",
   "version": "3.10.9"
  }
 },
 "nbformat": 4,
 "nbformat_minor": 5
}
